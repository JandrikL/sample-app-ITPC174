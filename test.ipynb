{
 "cells": [
  {
   "cell_type": "code",
   "execution_count": 4,
   "id": "c87f8d66",
   "metadata": {},
   "outputs": [
    {
     "name": "stdout",
     "output_type": "stream",
     "text": [
      "CSRF token response: {'token': 'W8b20VlGEG1jVuhUQ1Ev1lPbfNxVZo2HL6UQjRLm'}\n",
      "Login status code: 419\n",
      "Login response JSON: {'message': 'CSRF token mismatch.', 'exception': 'Symfony\\\\Component\\\\HttpKernel\\\\Exception\\\\HttpException', 'file': 'C:\\\\Users\\\\Jandrik\\\\Documents\\\\MyFILES\\\\TUA ITSE 4th Year\\\\IAS 2\\\\sample-app-ITPC174\\\\backend\\\\vendor\\\\laravel\\\\framework\\\\src\\\\Illuminate\\\\Foundation\\\\Exceptions\\\\Handler.php', 'line': 674, 'trace': [{'file': 'C:\\\\Users\\\\Jandrik\\\\Documents\\\\MyFILES\\\\TUA ITSE 4th Year\\\\IAS 2\\\\sample-app-ITPC174\\\\backend\\\\vendor\\\\laravel\\\\framework\\\\src\\\\Illuminate\\\\Foundation\\\\Exceptions\\\\Handler.php', 'line': 617, 'function': 'prepareException', 'class': 'Illuminate\\\\Foundation\\\\Exceptions\\\\Handler', 'type': '->'}, {'file': 'C:\\\\Users\\\\Jandrik\\\\Documents\\\\MyFILES\\\\TUA ITSE 4th Year\\\\IAS 2\\\\sample-app-ITPC174\\\\backend\\\\vendor\\\\laravel\\\\framework\\\\src\\\\Illuminate\\\\Routing\\\\Pipeline.php', 'line': 51, 'function': 'render', 'class': 'Illuminate\\\\Foundation\\\\Exceptions\\\\Handler', 'type': '->'}, {'file': 'C:\\\\Users\\\\Jandrik\\\\Documents\\\\MyFILES\\\\TUA ITSE 4th Year\\\\IAS 2\\\\sample-app-ITPC174\\\\backend\\\\vendor\\\\laravel\\\\framework\\\\src\\\\Illuminate\\\\Pipeline\\\\Pipeline.php', 'line': 224, 'function': 'handleException', 'class': 'Illuminate\\\\Routing\\\\Pipeline', 'type': '->'}, {'file': 'C:\\\\Users\\\\Jandrik\\\\Documents\\\\MyFILES\\\\TUA ITSE 4th Year\\\\IAS 2\\\\sample-app-ITPC174\\\\backend\\\\vendor\\\\laravel\\\\framework\\\\src\\\\Illuminate\\\\View\\\\Middleware\\\\ShareErrorsFromSession.php', 'line': 48, 'function': 'Illuminate\\\\Pipeline\\\\{closure}', 'class': 'Illuminate\\\\Pipeline\\\\Pipeline', 'type': '->'}, {'file': 'C:\\\\Users\\\\Jandrik\\\\Documents\\\\MyFILES\\\\TUA ITSE 4th Year\\\\IAS 2\\\\sample-app-ITPC174\\\\backend\\\\vendor\\\\laravel\\\\framework\\\\src\\\\Illuminate\\\\Pipeline\\\\Pipeline.php', 'line': 219, 'function': 'handle', 'class': 'Illuminate\\\\View\\\\Middleware\\\\ShareErrorsFromSession', 'type': '->'}, {'file': 'C:\\\\Users\\\\Jandrik\\\\Documents\\\\MyFILES\\\\TUA ITSE 4th Year\\\\IAS 2\\\\sample-app-ITPC174\\\\backend\\\\vendor\\\\laravel\\\\framework\\\\src\\\\Illuminate\\\\Session\\\\Middleware\\\\StartSession.php', 'line': 120, 'function': 'Illuminate\\\\Pipeline\\\\{closure}', 'class': 'Illuminate\\\\Pipeline\\\\Pipeline', 'type': '->'}, {'file': 'C:\\\\Users\\\\Jandrik\\\\Documents\\\\MyFILES\\\\TUA ITSE 4th Year\\\\IAS 2\\\\sample-app-ITPC174\\\\backend\\\\vendor\\\\laravel\\\\framework\\\\src\\\\Illuminate\\\\Session\\\\Middleware\\\\StartSession.php', 'line': 63, 'function': 'handleStatefulRequest', 'class': 'Illuminate\\\\Session\\\\Middleware\\\\StartSession', 'type': '->'}, {'file': 'C:\\\\Users\\\\Jandrik\\\\Documents\\\\MyFILES\\\\TUA ITSE 4th Year\\\\IAS 2\\\\sample-app-ITPC174\\\\backend\\\\vendor\\\\laravel\\\\framework\\\\src\\\\Illuminate\\\\Pipeline\\\\Pipeline.php', 'line': 219, 'function': 'handle', 'class': 'Illuminate\\\\Session\\\\Middleware\\\\StartSession', 'type': '->'}, {'file': 'C:\\\\Users\\\\Jandrik\\\\Documents\\\\MyFILES\\\\TUA ITSE 4th Year\\\\IAS 2\\\\sample-app-ITPC174\\\\backend\\\\vendor\\\\laravel\\\\framework\\\\src\\\\Illuminate\\\\Cookie\\\\Middleware\\\\AddQueuedCookiesToResponse.php', 'line': 36, 'function': 'Illuminate\\\\Pipeline\\\\{closure}', 'class': 'Illuminate\\\\Pipeline\\\\Pipeline', 'type': '->'}, {'file': 'C:\\\\Users\\\\Jandrik\\\\Documents\\\\MyFILES\\\\TUA ITSE 4th Year\\\\IAS 2\\\\sample-app-ITPC174\\\\backend\\\\vendor\\\\laravel\\\\framework\\\\src\\\\Illuminate\\\\Pipeline\\\\Pipeline.php', 'line': 219, 'function': 'handle', 'class': 'Illuminate\\\\Cookie\\\\Middleware\\\\AddQueuedCookiesToResponse', 'type': '->'}, {'file': 'C:\\\\Users\\\\Jandrik\\\\Documents\\\\MyFILES\\\\TUA ITSE 4th Year\\\\IAS 2\\\\sample-app-ITPC174\\\\backend\\\\vendor\\\\laravel\\\\framework\\\\src\\\\Illuminate\\\\Cookie\\\\Middleware\\\\EncryptCookies.php', 'line': 74, 'function': 'Illuminate\\\\Pipeline\\\\{closure}', 'class': 'Illuminate\\\\Pipeline\\\\Pipeline', 'type': '->'}, {'file': 'C:\\\\Users\\\\Jandrik\\\\Documents\\\\MyFILES\\\\TUA ITSE 4th Year\\\\IAS 2\\\\sample-app-ITPC174\\\\backend\\\\vendor\\\\laravel\\\\framework\\\\src\\\\Illuminate\\\\Pipeline\\\\Pipeline.php', 'line': 219, 'function': 'handle', 'class': 'Illuminate\\\\Cookie\\\\Middleware\\\\EncryptCookies', 'type': '->'}, {'file': 'C:\\\\Users\\\\Jandrik\\\\Documents\\\\MyFILES\\\\TUA ITSE 4th Year\\\\IAS 2\\\\sample-app-ITPC174\\\\backend\\\\vendor\\\\laravel\\\\framework\\\\src\\\\Illuminate\\\\Pipeline\\\\Pipeline.php', 'line': 137, 'function': 'Illuminate\\\\Pipeline\\\\{closure}', 'class': 'Illuminate\\\\Pipeline\\\\Pipeline', 'type': '->'}, {'file': 'C:\\\\Users\\\\Jandrik\\\\Documents\\\\MyFILES\\\\TUA ITSE 4th Year\\\\IAS 2\\\\sample-app-ITPC174\\\\backend\\\\vendor\\\\laravel\\\\framework\\\\src\\\\Illuminate\\\\Routing\\\\Router.php', 'line': 821, 'function': 'then', 'class': 'Illuminate\\\\Pipeline\\\\Pipeline', 'type': '->'}, {'file': 'C:\\\\Users\\\\Jandrik\\\\Documents\\\\MyFILES\\\\TUA ITSE 4th Year\\\\IAS 2\\\\sample-app-ITPC174\\\\backend\\\\vendor\\\\laravel\\\\framework\\\\src\\\\Illuminate\\\\Routing\\\\Router.php', 'line': 800, 'function': 'runRouteWithinStack', 'class': 'Illuminate\\\\Routing\\\\Router', 'type': '->'}, {'file': 'C:\\\\Users\\\\Jandrik\\\\Documents\\\\MyFILES\\\\TUA ITSE 4th Year\\\\IAS 2\\\\sample-app-ITPC174\\\\backend\\\\vendor\\\\laravel\\\\framework\\\\src\\\\Illuminate\\\\Routing\\\\Router.php', 'line': 764, 'function': 'runRoute', 'class': 'Illuminate\\\\Routing\\\\Router', 'type': '->'}, {'file': 'C:\\\\Users\\\\Jandrik\\\\Documents\\\\MyFILES\\\\TUA ITSE 4th Year\\\\IAS 2\\\\sample-app-ITPC174\\\\backend\\\\vendor\\\\laravel\\\\framework\\\\src\\\\Illuminate\\\\Routing\\\\Router.php', 'line': 753, 'function': 'dispatchToRoute', 'class': 'Illuminate\\\\Routing\\\\Router', 'type': '->'}, {'file': 'C:\\\\Users\\\\Jandrik\\\\Documents\\\\MyFILES\\\\TUA ITSE 4th Year\\\\IAS 2\\\\sample-app-ITPC174\\\\backend\\\\vendor\\\\laravel\\\\framework\\\\src\\\\Illuminate\\\\Foundation\\\\Http\\\\Kernel.php', 'line': 200, 'function': 'dispatch', 'class': 'Illuminate\\\\Routing\\\\Router', 'type': '->'}, {'file': 'C:\\\\Users\\\\Jandrik\\\\Documents\\\\MyFILES\\\\TUA ITSE 4th Year\\\\IAS 2\\\\sample-app-ITPC174\\\\backend\\\\vendor\\\\laravel\\\\framework\\\\src\\\\Illuminate\\\\Pipeline\\\\Pipeline.php', 'line': 180, 'function': 'Illuminate\\\\Foundation\\\\Http\\\\{closure}', 'class': 'Illuminate\\\\Foundation\\\\Http\\\\Kernel', 'type': '->'}, {'file': 'C:\\\\Users\\\\Jandrik\\\\Documents\\\\MyFILES\\\\TUA ITSE 4th Year\\\\IAS 2\\\\sample-app-ITPC174\\\\backend\\\\vendor\\\\laravel\\\\framework\\\\src\\\\Illuminate\\\\Foundation\\\\Http\\\\Middleware\\\\TransformsRequest.php', 'line': 21, 'function': 'Illuminate\\\\Pipeline\\\\{closure}', 'class': 'Illuminate\\\\Pipeline\\\\Pipeline', 'type': '->'}, {'file': 'C:\\\\Users\\\\Jandrik\\\\Documents\\\\MyFILES\\\\TUA ITSE 4th Year\\\\IAS 2\\\\sample-app-ITPC174\\\\backend\\\\vendor\\\\laravel\\\\framework\\\\src\\\\Illuminate\\\\Foundation\\\\Http\\\\Middleware\\\\ConvertEmptyStringsToNull.php', 'line': 31, 'function': 'handle', 'class': 'Illuminate\\\\Foundation\\\\Http\\\\Middleware\\\\TransformsRequest', 'type': '->'}, {'file': 'C:\\\\Users\\\\Jandrik\\\\Documents\\\\MyFILES\\\\TUA ITSE 4th Year\\\\IAS 2\\\\sample-app-ITPC174\\\\backend\\\\vendor\\\\laravel\\\\framework\\\\src\\\\Illuminate\\\\Pipeline\\\\Pipeline.php', 'line': 219, 'function': 'handle', 'class': 'Illuminate\\\\Foundation\\\\Http\\\\Middleware\\\\ConvertEmptyStringsToNull', 'type': '->'}, {'file': 'C:\\\\Users\\\\Jandrik\\\\Documents\\\\MyFILES\\\\TUA ITSE 4th Year\\\\IAS 2\\\\sample-app-ITPC174\\\\backend\\\\vendor\\\\laravel\\\\framework\\\\src\\\\Illuminate\\\\Foundation\\\\Http\\\\Middleware\\\\TransformsRequest.php', 'line': 21, 'function': 'Illuminate\\\\Pipeline\\\\{closure}', 'class': 'Illuminate\\\\Pipeline\\\\Pipeline', 'type': '->'}, {'file': 'C:\\\\Users\\\\Jandrik\\\\Documents\\\\MyFILES\\\\TUA ITSE 4th Year\\\\IAS 2\\\\sample-app-ITPC174\\\\backend\\\\vendor\\\\laravel\\\\framework\\\\src\\\\Illuminate\\\\Foundation\\\\Http\\\\Middleware\\\\TrimStrings.php', 'line': 51, 'function': 'handle', 'class': 'Illuminate\\\\Foundation\\\\Http\\\\Middleware\\\\TransformsRequest', 'type': '->'}, {'file': 'C:\\\\Users\\\\Jandrik\\\\Documents\\\\MyFILES\\\\TUA ITSE 4th Year\\\\IAS 2\\\\sample-app-ITPC174\\\\backend\\\\vendor\\\\laravel\\\\framework\\\\src\\\\Illuminate\\\\Pipeline\\\\Pipeline.php', 'line': 219, 'function': 'handle', 'class': 'Illuminate\\\\Foundation\\\\Http\\\\Middleware\\\\TrimStrings', 'type': '->'}, {'file': 'C:\\\\Users\\\\Jandrik\\\\Documents\\\\MyFILES\\\\TUA ITSE 4th Year\\\\IAS 2\\\\sample-app-ITPC174\\\\backend\\\\vendor\\\\laravel\\\\framework\\\\src\\\\Illuminate\\\\Http\\\\Middleware\\\\ValidatePostSize.php', 'line': 27, 'function': 'Illuminate\\\\Pipeline\\\\{closure}', 'class': 'Illuminate\\\\Pipeline\\\\Pipeline', 'type': '->'}, {'file': 'C:\\\\Users\\\\Jandrik\\\\Documents\\\\MyFILES\\\\TUA ITSE 4th Year\\\\IAS 2\\\\sample-app-ITPC174\\\\backend\\\\vendor\\\\laravel\\\\framework\\\\src\\\\Illuminate\\\\Pipeline\\\\Pipeline.php', 'line': 219, 'function': 'handle', 'class': 'Illuminate\\\\Http\\\\Middleware\\\\ValidatePostSize', 'type': '->'}, {'file': 'C:\\\\Users\\\\Jandrik\\\\Documents\\\\MyFILES\\\\TUA ITSE 4th Year\\\\IAS 2\\\\sample-app-ITPC174\\\\backend\\\\vendor\\\\laravel\\\\framework\\\\src\\\\Illuminate\\\\Foundation\\\\Http\\\\Middleware\\\\PreventRequestsDuringMaintenance.php', 'line': 109, 'function': 'Illuminate\\\\Pipeline\\\\{closure}', 'class': 'Illuminate\\\\Pipeline\\\\Pipeline', 'type': '->'}, {'file': 'C:\\\\Users\\\\Jandrik\\\\Documents\\\\MyFILES\\\\TUA ITSE 4th Year\\\\IAS 2\\\\sample-app-ITPC174\\\\backend\\\\vendor\\\\laravel\\\\framework\\\\src\\\\Illuminate\\\\Pipeline\\\\Pipeline.php', 'line': 219, 'function': 'handle', 'class': 'Illuminate\\\\Foundation\\\\Http\\\\Middleware\\\\PreventRequestsDuringMaintenance', 'type': '->'}, {'file': 'C:\\\\Users\\\\Jandrik\\\\Documents\\\\MyFILES\\\\TUA ITSE 4th Year\\\\IAS 2\\\\sample-app-ITPC174\\\\backend\\\\vendor\\\\laravel\\\\framework\\\\src\\\\Illuminate\\\\Http\\\\Middleware\\\\HandleCors.php', 'line': 61, 'function': 'Illuminate\\\\Pipeline\\\\{closure}', 'class': 'Illuminate\\\\Pipeline\\\\Pipeline', 'type': '->'}, {'file': 'C:\\\\Users\\\\Jandrik\\\\Documents\\\\MyFILES\\\\TUA ITSE 4th Year\\\\IAS 2\\\\sample-app-ITPC174\\\\backend\\\\vendor\\\\laravel\\\\framework\\\\src\\\\Illuminate\\\\Pipeline\\\\Pipeline.php', 'line': 219, 'function': 'handle', 'class': 'Illuminate\\\\Http\\\\Middleware\\\\HandleCors', 'type': '->'}, {'file': 'C:\\\\Users\\\\Jandrik\\\\Documents\\\\MyFILES\\\\TUA ITSE 4th Year\\\\IAS 2\\\\sample-app-ITPC174\\\\backend\\\\vendor\\\\laravel\\\\framework\\\\src\\\\Illuminate\\\\Http\\\\Middleware\\\\TrustProxies.php', 'line': 58, 'function': 'Illuminate\\\\Pipeline\\\\{closure}', 'class': 'Illuminate\\\\Pipeline\\\\Pipeline', 'type': '->'}, {'file': 'C:\\\\Users\\\\Jandrik\\\\Documents\\\\MyFILES\\\\TUA ITSE 4th Year\\\\IAS 2\\\\sample-app-ITPC174\\\\backend\\\\vendor\\\\laravel\\\\framework\\\\src\\\\Illuminate\\\\Pipeline\\\\Pipeline.php', 'line': 219, 'function': 'handle', 'class': 'Illuminate\\\\Http\\\\Middleware\\\\TrustProxies', 'type': '->'}, {'file': 'C:\\\\Users\\\\Jandrik\\\\Documents\\\\MyFILES\\\\TUA ITSE 4th Year\\\\IAS 2\\\\sample-app-ITPC174\\\\backend\\\\vendor\\\\laravel\\\\framework\\\\src\\\\Illuminate\\\\Foundation\\\\Http\\\\Middleware\\\\InvokeDeferredCallbacks.php', 'line': 22, 'function': 'Illuminate\\\\Pipeline\\\\{closure}', 'class': 'Illuminate\\\\Pipeline\\\\Pipeline', 'type': '->'}, {'file': 'C:\\\\Users\\\\Jandrik\\\\Documents\\\\MyFILES\\\\TUA ITSE 4th Year\\\\IAS 2\\\\sample-app-ITPC174\\\\backend\\\\vendor\\\\laravel\\\\framework\\\\src\\\\Illuminate\\\\Pipeline\\\\Pipeline.php', 'line': 219, 'function': 'handle', 'class': 'Illuminate\\\\Foundation\\\\Http\\\\Middleware\\\\InvokeDeferredCallbacks', 'type': '->'}, {'file': 'C:\\\\Users\\\\Jandrik\\\\Documents\\\\MyFILES\\\\TUA ITSE 4th Year\\\\IAS 2\\\\sample-app-ITPC174\\\\backend\\\\vendor\\\\laravel\\\\framework\\\\src\\\\Illuminate\\\\Http\\\\Middleware\\\\ValidatePathEncoding.php', 'line': 26, 'function': 'Illuminate\\\\Pipeline\\\\{closure}', 'class': 'Illuminate\\\\Pipeline\\\\Pipeline', 'type': '->'}, {'file': 'C:\\\\Users\\\\Jandrik\\\\Documents\\\\MyFILES\\\\TUA ITSE 4th Year\\\\IAS 2\\\\sample-app-ITPC174\\\\backend\\\\vendor\\\\laravel\\\\framework\\\\src\\\\Illuminate\\\\Pipeline\\\\Pipeline.php', 'line': 219, 'function': 'handle', 'class': 'Illuminate\\\\Http\\\\Middleware\\\\ValidatePathEncoding', 'type': '->'}, {'file': 'C:\\\\Users\\\\Jandrik\\\\Documents\\\\MyFILES\\\\TUA ITSE 4th Year\\\\IAS 2\\\\sample-app-ITPC174\\\\backend\\\\vendor\\\\laravel\\\\framework\\\\src\\\\Illuminate\\\\Pipeline\\\\Pipeline.php', 'line': 137, 'function': 'Illuminate\\\\Pipeline\\\\{closure}', 'class': 'Illuminate\\\\Pipeline\\\\Pipeline', 'type': '->'}, {'file': 'C:\\\\Users\\\\Jandrik\\\\Documents\\\\MyFILES\\\\TUA ITSE 4th Year\\\\IAS 2\\\\sample-app-ITPC174\\\\backend\\\\vendor\\\\laravel\\\\framework\\\\src\\\\Illuminate\\\\Foundation\\\\Http\\\\Kernel.php', 'line': 175, 'function': 'then', 'class': 'Illuminate\\\\Pipeline\\\\Pipeline', 'type': '->'}, {'file': 'C:\\\\Users\\\\Jandrik\\\\Documents\\\\MyFILES\\\\TUA ITSE 4th Year\\\\IAS 2\\\\sample-app-ITPC174\\\\backend\\\\vendor\\\\laravel\\\\framework\\\\src\\\\Illuminate\\\\Foundation\\\\Http\\\\Kernel.php', 'line': 144, 'function': 'sendRequestThroughRouter', 'class': 'Illuminate\\\\Foundation\\\\Http\\\\Kernel', 'type': '->'}, {'file': 'C:\\\\Users\\\\Jandrik\\\\Documents\\\\MyFILES\\\\TUA ITSE 4th Year\\\\IAS 2\\\\sample-app-ITPC174\\\\backend\\\\vendor\\\\laravel\\\\framework\\\\src\\\\Illuminate\\\\Foundation\\\\Application.php', 'line': 1219, 'function': 'handle', 'class': 'Illuminate\\\\Foundation\\\\Http\\\\Kernel', 'type': '->'}, {'file': 'C:\\\\Users\\\\Jandrik\\\\Documents\\\\MyFILES\\\\TUA ITSE 4th Year\\\\IAS 2\\\\sample-app-ITPC174\\\\backend\\\\public\\\\index.php', 'line': 20, 'function': 'handleRequest', 'class': 'Illuminate\\\\Foundation\\\\Application', 'type': '->'}, {'file': 'C:\\\\Users\\\\Jandrik\\\\Documents\\\\MyFILES\\\\TUA ITSE 4th Year\\\\IAS 2\\\\sample-app-ITPC174\\\\backend\\\\vendor\\\\laravel\\\\framework\\\\src\\\\Illuminate\\\\Foundation\\\\resources\\\\server.php', 'line': 23, 'function': 'require_once'}]}\n"
     ]
    }
   ],
   "source": [
    "import requests\n",
    "\n",
    "BASE_URL = \"http://localhost:8000\"\n",
    "\n",
    "# Start a session so cookies persist between requests\n",
    "session = requests.Session()\n",
    "\n",
    "# 1. Fetch CSRF token (and laravel_session cookie)\n",
    "resp = session.get(f\"{BASE_URL}/csrf-token\")\n",
    "print(\"CSRF token response:\", resp.json())\n",
    "csrf_token = resp.json()[\"token\"]\n",
    "\n",
    "# 2. Perform login using that token\n",
    "login_payload = {\n",
    "    \"email\": \"test@example.com\",\n",
    "    \"password\": \"password123\"\n",
    "}\n",
    "\n",
    "headers = {\n",
    "    \"X-CSRF-TOKEN\": csrf_token,\n",
    "    \"Accept\": \"application/json\"\n",
    "}\n",
    "\n",
    "resp = session.post(f\"{BASE_URL}/login\", json=login_payload, headers=headers)\n",
    "print(\"Login status code:\", resp.status_code)\n",
    "print(\"Login response JSON:\", resp.json())\n"
   ]
  },
  {
   "cell_type": "code",
   "execution_count": 5,
   "id": "c3bb89a6",
   "metadata": {},
   "outputs": [
    {
     "name": "stdout",
     "output_type": "stream",
     "text": [
      "Session cookies after token request: {'XSRF-TOKEN': 'eyJpdiI6InU4d0pPRzlCcDJBU1dkZVFHanJGOHc9PSIsInZhbHVlIjoiN21UaUkzaTlsT21PRi9iaFdrZHA0QXdvNlVLZlkxTEx0azV3KzV0TjFRdDBtRllPVU51cGF2WkExbklBK2xOVEo5ZWhKQzFtc1lVSVVtc2FQbHBIblVseUpzTk51RG1qcDZqK2tFZnpmMWRLUEdJeXpkVCtYUGY5eHBRUWp3VWUiLCJtYWMiOiIxOTU2NDM0MThiN2FlYWY5NDlkNmNkMWMyYzg4MjZiNWJhNDA1MWQ3MmU1YTNkM2I2M2Q1N2UyMTYzZjFkMWE1IiwidGFnIjoiIn0%3D', 'laravelreactapp_session': 'eyJpdiI6IkEzWlpBZThqN3p2d29kTU5MMWpUZUE9PSIsInZhbHVlIjoiU08waGlMeUZqcmE1czQ2YklZYkJwek1vNXFlTjNrcGpYUXJQdDRkVDNQM01lUUJCS08xNkQveXlkTHd0NzRXSkt4bjYweVpWMDBtMVFjalVXTjNGQW9uVzJ1SjJCOFVybHkrQmo1SC9va1NzZEtvTVZVTThUOTAzVWk2NnNSeU8iLCJtYWMiOiI3MGUzODUwNDZjNDk1YWIwNTU4NWJlMGRiNTA0MjE2NDBlOGRlYzFlMTZjNmNjODRiNmQzOGU0MTMxN2EyYTdhIiwidGFnIjoiIn0%3D'}\n"
     ]
    }
   ],
   "source": [
    "print(\"Session cookies after token request:\", session.cookies.get_dict())"
   ]
  },
  {
   "cell_type": "code",
   "execution_count": 11,
   "id": "fcada27a",
   "metadata": {},
   "outputs": [
    {
     "name": "stdout",
     "output_type": "stream",
     "text": [
      "Cookies after CSRF: {'XSRF-TOKEN': 'eyJpdiI6IjhKUW5Jc2NPZHpHYitjN0hLS0VMMGc9PSIsInZhbHVlIjoiYTFmZEREMTh3cUFXSGlJUGczQWdiazczYldXcmVPYXpIQ1FzOEpwL1drZ3hNQXNKVGQ0V2JCSy9CRERxS3N3YjhZS3o1dUwva3RvMFRsazRiU3VoUjBEaXd1K2FDMnpBYkpsQUNYcGdzNlA0WkxaNythaVRrUHMvYTNNL253R3ciLCJtYWMiOiIxOTFjMWEyNGJiYjRmYTFhZTJjMTJmZTQ3MWQ1MTVkZTc3Yjc4YWJiMGM4ODU2MjZmN2RjYWE5ODMyM2UyOTE1IiwidGFnIjoiIn0%3D', 'laravelreactapp_session': 'eyJpdiI6IjNRODdXamxCalBiOWphcE9yYXZCeVE9PSIsInZhbHVlIjoiNER3cTg1V0M0dUVjNlV3dXQwd2U4RjMvUjM4cHUveExMVUYzTHVOYldWdXk5cmFaVE1aSTNLU2s0RVJ3d3M2RFhMd2VTSTFSSUxGb2hkdEViZi9IdkVWb0Qrc1NxRXVDRGZhbzdyYlRwaitDRnZSQzhmaFRla2RJSjBtM1pneUciLCJtYWMiOiJmNjg5NWZiY2IzNTMwMmFmYmU3N2RjZDE0NWRmMzVlY2QzNzQ3ZGRjNDFkYzU5NDQyODEwYWM3MDVjMDZmNWE2IiwidGFnIjoiIn0%3D'}\n",
      "Debug session: {'session': {'_token': 'if0SHDbsOGvwkTjJ8oCHIIosbMvt7d1l8GSiHFkf'}, '_token': 'if0SHDbsOGvwkTjJ8oCHIIosbMvt7d1l8GSiHFkf'}\n",
      "Status: 419\n",
      "Response: <!DOCTYPE html>\n",
      "<html lang=\"en\">\n",
      "    <head>\n",
      "        <meta charset=\"utf-8\">\n",
      "        <meta name=\"viewport\" content=\"width=device-width, initial-scale=1\">\n",
      "\n",
      "        <title>Page Expired</title>\n",
      "\n",
      "        <style>\n",
      "            /*! normalize.css v8.0.1 | MIT License | github.com/necolas/normalize.css */html{line-height:1.15;-webkit-text-size-adjust:100%}body{margin:0}a{background-color:transparent}code{font-family:monospace,monospace;font-size:1em}[hidden]{display:none}html{font-family:system-ui,-apple-system,BlinkMacSystemFont,Segoe UI,Roboto,Helvetica Neue,Arial,Noto Sans,sans-serif,Apple Color Emoji,Segoe UI Emoji,Segoe UI Symbol,Noto Color Emoji;line-height:1.5}*,:after,:before{box-sizing:border-box;border:0 solid #e2e8f0}a{color:inherit;text-decoration:inherit}code{font-family:Menlo,Monaco,Consolas,Liberation Mono,Courier New,monospace}svg,video{display:block;vertical-align:middle}video{max-width:100%;height:auto}.bg-white{--bg-opacity:1;background-color:#fff;background-color:rgba(255,255,255,var(--bg-opacity))}.bg-gray-100{--bg-opacity:1;background-color:#f7fafc;background-color:rgba(247,250,252,var(--bg-opacity))}.border-gray-200{--border-opacity:1;border-color:#edf2f7;border-color:rgba(237,242,247,var(--border-opacity))}.border-gray-400{--border-opacity:1;border-color:#cbd5e0;border-color:rgba(203,213,224,var(--border-opacity))}.border-t{border-top-width:1px}.border-r{border-right-width:1px}.flex{display:flex}.grid{display:grid}.hidden{display:none}.items-center{align-items:center}.justify-center{justify-content:center}.font-semibold{font-weight:600}.h-5{height:1.25rem}.h-8{height:2rem}.h-16{height:4rem}.text-sm{font-size:.875rem}.text-lg{font-size:1.125rem}.leading-7{line-height:1.75rem}.mx-auto{margin-left:auto;margin-right:auto}.ml-1{margin-left:.25rem}.mt-2{margin-top:.5rem}.mr-2{margin-right:.5rem}.ml-2{margin-left:.5rem}.mt-4{margin-top:1rem}.ml-4{margin-left:1rem}.mt-8{margin-top:2rem}.ml-12{margin-left:3rem}.-mt-px{margin-top:-1px}.max-w-xl{max-width:36rem}.max-w-6xl{max-width:72rem}.min-h-screen{min-height:100vh}.overflow-hidden{overflow:hidden}.p-6{padding:1.5rem}.py-4{padding-top:1rem;padding-bottom:1rem}.px-4{padding-left:1rem;padding-right:1rem}.px-6{padding-left:1.5rem;padding-right:1.5rem}.pt-8{padding-top:2rem}.fixed{position:fixed}.relative{position:relative}.top-0{top:0}.right-0{right:0}.shadow{box-shadow:0 1px 3px 0 rgba(0,0,0,.1),0 1px 2px 0 rgba(0,0,0,.06)}.text-center{text-align:center}.text-gray-200{--text-opacity:1;color:#edf2f7;color:rgba(237,242,247,var(--text-opacity))}.text-gray-300{--text-opacity:1;color:#e2e8f0;color:rgba(226,232,240,var(--text-opacity))}.text-gray-400{--text-opacity:1;color:#cbd5e0;color:rgba(203,213,224,var(--text-opacity))}.text-gray-500{--text-opacity:1;color:#a0aec0;color:rgba(160,174,192,var(--text-opacity))}.text-gray-600{--text-opacity:1;color:#718096;color:rgba(113,128,150,var(--text-opacity))}.text-gray-700{--text-opacity:1;color:#4a5568;color:rgba(74,85,104,var(--text-opacity))}.text-gray-900{--text-opacity:1;color:#1a202c;color:rgba(26,32,44,var(--text-opacity))}.uppercase{text-transform:uppercase}.underline{text-decoration:underline}.antialiased{-webkit-font-smoothing:antialiased;-moz-osx-font-smoothing:grayscale}.tracking-wider{letter-spacing:.05em}.w-5{width:1.25rem}.w-8{width:2rem}.w-auto{width:auto}.grid-cols-1{grid-template-columns:repeat(1,minmax(0,1fr))}@-webkit-keyframes spin{0%{transform:rotate(0deg)}to{transform:rotate(1turn)}}@keyframes spin{0%{transform:rotate(0deg)}to{transform:rotate(1turn)}}@-webkit-keyframes ping{0%{transform:scale(1);opacity:1}75%,to{transform:scale(2);opacity:0}}@keyframes ping{0%{transform:scale(1);opacity:1}75%,to{transform:scale(2);opacity:0}}@-webkit-keyframes pulse{0%,to{opacity:1}50%{opacity:.5}}@keyframes pulse{0%,to{opacity:1}50%{opacity:.5}}@-webkit-keyframes bounce{0%,to{transform:translateY(-25%);-webkit-animation-timing-function:cubic-bezier(.8,0,1,1);animation-timing-function:cubic-bezier(.8,0,1,1)}50%{transform:translateY(0);-webkit-animation-timing-function:cubic-bezier(0,0,.2,1);animation-timing-function:cubic-bezier(0,0,.2,1)}}@keyframes bounce{0%,to{transform:translateY(-25%);-webkit-animation-timing-function:cubic-bezier(.8,0,1,1);animation-timing-function:cubic-bezier(.8,0,1,1)}50%{transform:translateY(0);-webkit-animation-timing-function:cubic-bezier(0,0,.2,1);animation-timing-function:cubic-bezier(0,0,.2,1)}}@media (min-width:640px){.sm\\:rounded-lg{border-radius:.5rem}.sm\\:block{display:block}.sm\\:items-center{align-items:center}.sm\\:justify-start{justify-content:flex-start}.sm\\:justify-between{justify-content:space-between}.sm\\:h-20{height:5rem}.sm\\:ml-0{margin-left:0}.sm\\:px-6{padding-left:1.5rem;padding-right:1.5rem}.sm\\:pt-0{padding-top:0}.sm\\:text-left{text-align:left}.sm\\:text-right{text-align:right}}@media (min-width:768px){.md\\:border-t-0{border-top-width:0}.md\\:border-l{border-left-width:1px}.md\\:grid-cols-2{grid-template-columns:repeat(2,minmax(0,1fr))}}@media (min-width:1024px){.lg\\:px-8{padding-left:2rem;padding-right:2rem}}@media (prefers-color-scheme:dark){.dark\\:bg-gray-800{--bg-opacity:1;background-color:#2d3748;background-color:rgba(45,55,72,var(--bg-opacity))}.dark\\:bg-gray-900{--bg-opacity:1;background-color:#1a202c;background-color:rgba(26,32,44,var(--bg-opacity))}.dark\\:border-gray-700{--border-opacity:1;border-color:#4a5568;border-color:rgba(74,85,104,var(--border-opacity))}.dark\\:text-white{--text-opacity:1;color:#fff;color:rgba(255,255,255,var(--text-opacity))}.dark\\:text-gray-400{--text-opacity:1;color:#cbd5e0;color:rgba(203,213,224,var(--text-opacity))}}\n",
      "        </style>\n",
      "\n",
      "        <style>\n",
      "            body {\n",
      "                font-family: ui-sans-serif, system-ui, -apple-system, BlinkMacSystemFont, \"Segoe UI\", Roboto, \"Helvetica Neue\", Arial, \"Noto Sans\", sans-serif, \"Apple Color Emoji\", \"Segoe UI Emoji\", \"Segoe UI Symbol\", \"Noto Color Emoji\";\n",
      "            }\n",
      "        </style>\n",
      "    </head>\n",
      "    <body class=\"antialiased\">\n",
      "        <div class=\"relative flex items-top justify-center min-h-screen bg-gray-100 dark:bg-gray-900 sm:items-center sm:pt-0\">\n",
      "            <div class=\"max-w-xl mx-auto sm:px-6 lg:px-8\">\n",
      "                <div class=\"flex items-center pt-8 sm:justify-start sm:pt-0\">\n",
      "                    <div class=\"px-4 text-lg text-gray-500 border-r border-gray-400 tracking-wider\">\n",
      "                        419                    </div>\n",
      "\n",
      "                    <div class=\"ml-4 text-lg text-gray-500 uppercase tracking-wider\">\n",
      "                        Page Expired                    </div>\n",
      "                </div>\n",
      "            </div>\n",
      "        </div>\n",
      "    </body>\n",
      "</html>\n",
      "\n"
     ]
    }
   ],
   "source": [
    "import requests\n",
    "\n",
    "BASE_URL = \"http://localhost:8000\"\n",
    "session = requests.Session()\n",
    "\n",
    "# Step 1: Get CSRF token\n",
    "resp = session.get(f\"{BASE_URL}/csrf-token\")\n",
    "print(\"Cookies after CSRF:\", session.cookies.get_dict())\n",
    "token = resp.json().get('token')\n",
    "\n",
    "# Step 2: Debug session\n",
    "resp = session.get(f\"{BASE_URL}/debug-session\")\n",
    "print(\"Debug session:\", resp.json())\n",
    "\n",
    "# Step 3: Attempt login with token\n",
    "login_data = {'email': 'test@example.com', 'password': 'password'}\n",
    "resp = session.post(\n",
    "    f\"{BASE_URL}/login\",\n",
    "    json=login_data,\n",
    "    headers={'X-CSRF-TOKEN': token}\n",
    ")\n",
    "print(\"Status:\", resp.status_code)\n",
    "print(\"Response:\", resp.text)\n"
   ]
  },
  {
   "cell_type": "code",
   "execution_count": 9,
   "id": "554f1c9a",
   "metadata": {},
   "outputs": [
    {
     "data": {
      "text/plain": [
       "'k54FzNw23Cvf76ATrB31Mm15oLJmf6YnTY6kQfF8'"
      ]
     },
     "execution_count": 9,
     "metadata": {},
     "output_type": "execute_result"
    }
   ],
   "source": [
    "csrf_token"
   ]
  }
 ],
 "metadata": {
  "kernelspec": {
   "display_name": "base",
   "language": "python",
   "name": "python3"
  },
  "language_info": {
   "codemirror_mode": {
    "name": "ipython",
    "version": 3
   },
   "file_extension": ".py",
   "mimetype": "text/x-python",
   "name": "python",
   "nbconvert_exporter": "python",
   "pygments_lexer": "ipython3",
   "version": "3.11.5"
  }
 },
 "nbformat": 4,
 "nbformat_minor": 5
}
